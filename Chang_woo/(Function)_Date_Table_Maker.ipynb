{
 "cells": [
  {
   "cell_type": "markdown",
   "metadata": {},
   "source": [
    "# Load Module & Dataset"
   ]
  },
  {
   "cell_type": "code",
   "execution_count": 9,
   "metadata": {
    "collapsed": true
   },
   "outputs": [],
   "source": [
    "import numpy as np\n",
    "import pandas as pd\n",
    "from datetime import datetime\n",
    "import matplotlib.pyplot as plt\n",
    "import calendar\n",
    "from calendar import Calendar\n",
    "\n",
    "\n",
    "%matplotlib inline\n",
    "\n",
    "train_df = pd.read_csv(\"./sales_train_v2.csv\") # sales_train_v2.csv 데일리한 매출 정보\n"
   ]
  },
  {
   "cell_type": "code",
   "execution_count": 12,
   "metadata": {
    "collapsed": true
   },
   "outputs": [],
   "source": [
    "def Weekday_Columns_maker(Target_df):\n",
    "    # 분할하여 추가\n",
    "    date_df = pd.DataFrame(Target_df[\"date\"].str.split(\".\").tolist(),  columns = ['Day','Month','Year'])\n",
    "    # Date_df + Train_df = Full_df\n",
    "    Full_df = pd.concat([train_df, date_df],axis= 1)\n",
    "\n",
    "\n",
    "    # Function\n",
    "    make_weekday_function = lambda x: datetime.weekday(datetime.strptime(x,  \"%d.%m.%Y\"))\n",
    "    # Activate\n",
    "    Full_df['weekday'] = pd.DataFrame(list(map(make_weekday_function,Full_df['date'])))\n",
    "\n",
    "    # Sort (make 'weekday_str')\n",
    "    weekday_sort_dict = {0:'Mon',1:'Tue',2:'Wed',3:'Thu',4:'Fri',5:'Sat',6:'Sun'}\n",
    "    Full_df[\"weekday_str\"] = Full_df.weekday.map(weekday_sort_dict)\n",
    "    return Full_df\n",
    "    "
   ]
  },
  {
   "cell_type": "code",
   "execution_count": 10,
   "metadata": {
    "collapsed": true
   },
   "outputs": [],
   "source": [
    "def Date_Table_maker(Target_df):\n",
    "    \n",
    "    # 분할하여 추가\n",
    "    date_df = pd.DataFrame(Target_df[\"date\"].str.split(\".\").tolist(),  columns = ['Day','Month','Year'])\n",
    "    # Date_df + Train_df = Full_df\n",
    "    Full_df = pd.concat([train_df, date_df],axis= 1)\n",
    "\n",
    "\n",
    "    # Function\n",
    "    make_weekday_function = lambda x: datetime.weekday(datetime.strptime(x,  \"%d.%m.%Y\"))\n",
    "    # Activate\n",
    "    Full_df['weekday'] = pd.DataFrame(list(map(make_weekday_function,Full_df['date'])))\n",
    "\n",
    "    # Sort (make 'weekday_str')\n",
    "    weekday_sort_dict = {0:'Mon',1:'Tue',2:'Wed',3:'Thu',4:'Fri',5:'Sat',6:'Sun'}\n",
    "    Full_df[\"weekday_str\"] = Full_df.weekday.map(weekday_sort_dict)\n",
    "\n",
    "\n",
    "    Just_Year = Full_df['Year'].unique()\n",
    "    Just_Month = Full_df['Month'].unique()\n",
    "\n",
    "    p=0\n",
    "    MAKE=[]\n",
    "    for Yidx,i in enumerate(Just_Year):\n",
    "        for Midx,j in enumerate(Just_Month):\n",
    "            if Midx == 11 and Yidx == 2:\n",
    "                A = np.busday_count(i+'-'+j, '2016'+'-'+'01',weekmask=[1,0,0,0,0,0,0])\n",
    "                B = np.busday_count(i+'-'+j, '2016'+'-'+'01',weekmask=[0,1,0,0,0,0,0]) \n",
    "                C = np.busday_count(i+'-'+j, '2016'+'-'+'01',weekmask=[0,0,1,0,0,0,0]) \n",
    "                D = np.busday_count(i+'-'+j, '2016'+'-'+'01',weekmask=[0,0,0,1,0,0,0]) \n",
    "                E = np.busday_count(i+'-'+j, '2016'+'-'+'01',weekmask=[0,0,0,0,1,0,0]) \n",
    "                F = np.busday_count(i+'-'+j, '2016'+'-'+'01',weekmask=[0,0,0,0,0,1,0]) \n",
    "                G = np.busday_count(i+'-'+j, '2016'+'-'+'01',weekmask=[0,0,0,0,0,0,1]) \n",
    "                SSEM = len(np.arange(i+'-'+j, '2016'+'-'+'01', dtype='datetime64[D]'))\n",
    "                H= Just_Year[Yidx]\n",
    "                I= Just_Month[Midx]\n",
    "                p = p+1\n",
    "                print(p,Yidx,Midx)\n",
    "                MAKE.append([H,I,A,B,C,D,E,F,G,SSEM])\n",
    "            elif Midx != 11:\n",
    "                A = np.busday_count(i+'-'+j, i+'-'+Just_Month[Midx+1],weekmask=[1,0,0,0,0,0,0]) #“Mon Tue Wed Thu Fri\"\n",
    "                B = np.busday_count(i+'-'+j, i+'-'+Just_Month[Midx+1],weekmask=[0,1,0,0,0,0,0]) \n",
    "                C = np.busday_count(i+'-'+j, i+'-'+Just_Month[Midx+1],weekmask=[0,0,1,0,0,0,0]) \n",
    "                D = np.busday_count(i+'-'+j, i+'-'+Just_Month[Midx+1],weekmask=[0,0,0,1,0,0,0]) \n",
    "                E = np.busday_count(i+'-'+j, i+'-'+Just_Month[Midx+1],weekmask=[0,0,0,0,1,0,0]) \n",
    "                F = np.busday_count(i+'-'+j, i+'-'+Just_Month[Midx+1],weekmask=[0,0,0,0,0,1,0]) \n",
    "                G = np.busday_count(i+'-'+j, i+'-'+Just_Month[Midx+1],weekmask=[0,0,0,0,0,0,1]) \n",
    "                SSEM = len(np.arange(i+'-'+j, i+'-'+Just_Month[Midx+1], dtype='datetime64[D]'))\n",
    "                H= Just_Year[Yidx]\n",
    "                I= Just_Month[Midx]\n",
    "                p = p+1\n",
    "                print(p,Yidx,Midx)\n",
    "                MAKE.append([H,I,A,B,C,D,E,F,G,SSEM])\n",
    "            else :\n",
    "                A = np.busday_count(i+'-'+j, Just_Year[Yidx+1]+'-'+'01',weekmask=[1,0,0,0,0,0,0])\n",
    "                B = np.busday_count(i+'-'+j, Just_Year[Yidx+1]+'-'+'01',weekmask=[0,1,0,0,0,0,0]) \n",
    "                C = np.busday_count(i+'-'+j, Just_Year[Yidx+1]+'-'+'01',weekmask=[0,0,1,0,0,0,0]) \n",
    "                D = np.busday_count(i+'-'+j, Just_Year[Yidx+1]+'-'+'01',weekmask=[0,0,0,1,0,0,0]) \n",
    "                E = np.busday_count(i+'-'+j, Just_Year[Yidx+1]+'-'+'01',weekmask=[0,0,0,0,1,0,0]) \n",
    "                F = np.busday_count(i+'-'+j, Just_Year[Yidx+1]+'-'+'01',weekmask=[0,0,0,0,0,1,0]) \n",
    "                G = np.busday_count(i+'-'+j, Just_Year[Yidx+1]+'-'+'01',weekmask=[0,0,0,0,0,0,1]) \n",
    "                SSEM = len(np.arange(i+'-'+j, Just_Year[Yidx+1]+'-'+'01', dtype='datetime64[D]'))\n",
    "                H= Just_Year[Yidx]\n",
    "                I= Just_Month[Midx]\n",
    "                p = p+1\n",
    "                print(p,Yidx,Midx)\n",
    "                MAKE.append([H,I,A,B,C,D,E,F,G,SSEM])\n",
    "\n",
    "    Target_Calendar = pd.DataFrame(MAKE, columns=['Year','Month','Mon_count','Tue_count','Wed_count','Thu_count','Fri_count','Sat_count','Sun_count','Day_Count'])\n",
    "    return Target_Calendar"
   ]
  },
  {
   "cell_type": "code",
   "execution_count": null,
   "metadata": {
    "collapsed": true
   },
   "outputs": [],
   "source": []
  }
 ],
 "metadata": {
  "kernelspec": {
   "display_name": "Python 3",
   "language": "python",
   "name": "python3"
  },
  "language_info": {
   "codemirror_mode": {
    "name": "ipython",
    "version": 3
   },
   "file_extension": ".py",
   "mimetype": "text/x-python",
   "name": "python",
   "nbconvert_exporter": "python",
   "pygments_lexer": "ipython3",
   "version": "3.5.0"
  }
 },
 "nbformat": 4,
 "nbformat_minor": 2
}
